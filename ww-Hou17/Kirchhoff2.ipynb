{
 "cells": [
  {
   "cell_type": "code",
   "execution_count": 43,
   "metadata": {
    "collapsed": true
   },
   "outputs": [],
   "source": [
    "import numpy as np\n",
    "import math as math\n",
    "import matplotlib.pyplot as mpl\n",
    "from scipy.misc import imread\n",
    "%matplotlib inline\n"
   ]
  },
  {
   "cell_type": "code",
   "execution_count": 44,
   "metadata": {
    "collapsed": true
   },
   "outputs": [],
   "source": [
    "def mig(data,vel,dt,dx,dy=0,dz=0,t0=0,x0=0,z0=0,y0=0,nz=0,ny=0):\n",
    "    nt = len(data)\n",
    "    nx = len(data[1])\n",
    "    if nz==0:\n",
    "        nz = nt\n",
    "        \n",
    "    if ny == 0:\n",
    "        ny = nx\n",
    "    \n",
    "    if dy == 0:\n",
    "        dy=dx\n",
    "        \n",
    "    if dz == 0:\n",
    "        dz = dt*vel/2\n",
    "                \n",
    "    global image\n",
    "    image = np.zeros((nz,ny))\n",
    "    # loop through indexes\n",
    "    ix = 0\n",
    "    while ix<nx:\n",
    "        x = x0+ix*dx\n",
    "        iy = 0\n",
    "\n",
    "        while iy<ny:\n",
    "            y = y0 + iy*dy\n",
    "            h = (x-y)\n",
    "            iz = 0\n",
    "            while iz<nz:\n",
    "                z = z0+iz*dz\n",
    "                t = math.sqrt(z*z+h*h)*2./vel\n",
    "            \n",
    "            \n",
    "                t1 = (t-t0)/dt\n",
    "                ti = math.floor(t1)\n",
    "                rt = t1-ti\n",
    "                ti = int(ti)\n",
    "\n",
    "                if ti>nt-2:\n",
    "                    iz=iz+1\n",
    "                    continue\n",
    "\n",
    "                else:\n",
    "                    image[iz,iy] = image[iz,iy] + (1-rt)*data[ti,ix] + rt*data[ti+1,ix]\n",
    "\n",
    "                    iz = iz+1\n",
    "    \n",
    "            iy = iy+1\n",
    "            #iy\n",
    "    \n",
    "        ix=ix+1\n",
    "        #ix\n",
    "    return "
   ]
  },
  {
   "cell_type": "code",
   "execution_count": 49,
   "metadata": {
    "collapsed": true
   },
   "outputs": [],
   "source": [
    "def mod(image,vel,dz,dy,dx=0,dt=0,t0=0,x0=0,z0=0,y0=0,nt=0,nx=0):\n",
    "    nz = len(image)\n",
    "    ny = len(image[1])\n",
    "\n",
    "    if nt==0:\n",
    "        nt = nz\n",
    "        \n",
    "    if nx == 0:\n",
    "        nx = ny\n",
    "    \n",
    "    if dy == 0:\n",
    "        dy=dx\n",
    "        \n",
    "    if dt == 0:\n",
    "        dt = dz/vel\n",
    "\n",
    "    global data\n",
    "    data = np.zeros((nt,nx))    \n",
    "    \n",
    "    # loop through indexes\n",
    "    ix = 0\n",
    "    while ix<nx:\n",
    "        x = x0+ix*dx\n",
    "        iy = 0\n",
    "\n",
    "        while iy<ny:\n",
    "            y = y0 + iy*dy\n",
    "            h = (x-y)\n",
    "            iz = 0\n",
    "            while iz<nz:\n",
    "                z = z0+iz*dz\n",
    "                t = math.sqrt(z*z+h*h)*2./vel\n",
    "            \n",
    "            \n",
    "                t1 = (t-t0)/dt\n",
    "                ti = math.floor(t1)\n",
    "                rt = t1-ti\n",
    "                ti = int(ti)\n",
    "\n",
    "                if ti>nt-2:\n",
    "                    iz=iz+1\n",
    "                    continue\n",
    "\n",
    "                else:\n",
    "                    data[ti,ix] = data[ti,ix] + (1-rt)*image[iz,iy]\n",
    "                    data[ti+1,ix] = data[ti+1,ix] + rt*image[iz,iy]\n",
    "\n",
    "                    iz = iz+1\n",
    "    \n",
    "            iy = iy+1\n",
    "            #iy\n",
    "    \n",
    "        ix=ix+1\n",
    "        #ix\n",
    "    return \n",
    "    \n"
   ]
  },
  {
   "cell_type": "code",
   "execution_count": 50,
   "metadata": {},
   "outputs": [
    {
     "data": {
      "text/plain": [
       "<matplotlib.image.AxesImage at 0x11aa31e50>"
      ]
     },
     "execution_count": 50,
     "metadata": {},
     "output_type": "execute_result"
    },
    {
     "data": {
      "image/png": "[encoded data removed]",
      "text/plain": [
       "<matplotlib.figure.Figure at 0x11ac3f8d0>"
      ]
     },
     "metadata": {},
     "output_type": "display_data"
    }
   ],
   "source": [
    "t0 = 0.\n",
    "nt = 100\n",
    "dt = .05\n",
    "nx = 100\n",
    "dx = 50\n",
    "x0 = 0.\n",
    "\n",
    "# velocity\n",
    "vel = 1000 #km/s\n",
    "\n",
    "# image domain parameters\n",
    "\n",
    "dz = dt*1000/2\n",
    "dy = dx\n",
    "data = np.zeros((nt,nx))\n",
    "data[nt/2,nx/2]=1.\n",
    "\n",
    "mig(data,vel,dt,dx,dy,dz)\n",
    "\n",
    "mpl.imshow(image, aspect='auto', cmap=\"Greys\")"
   ]
  },
  {
   "cell_type": "code",
   "execution_count": 51,
   "metadata": {},
   "outputs": [
    {
     "data": {
      "text/plain": [
       "<matplotlib.image.AxesImage at 0x11add2b10>"
      ]
     },
     "execution_count": 51,
     "metadata": {},
     "output_type": "execute_result"
    },
    {
     "data": {
      "image/png": "[encoded data removed]",
      "text/plain": [
       "<matplotlib.figure.Figure at 0x119ee9d10>"
      ]
     },
     "metadata": {},
     "output_type": "display_data"
    }
   ],
   "source": [
    "nz = nt\n",
    "ny = nx\n",
    "\n",
    "image = np.zeros((nz,ny))\n",
    "image[nz/2,ny/2]=1.\n",
    "\n",
    "mod(image,vel,dz,dy,dx,dt)\n",
    "\n",
    "mpl.imshow(data, aspect='auto', cmap=\"Greys\")"
   ]
  },
  {
   "cell_type": "code",
   "execution_count": 52,
   "metadata": {
    "scrolled": true
   },
   "outputs": [
    {
     "data": {
      "text/plain": [
       "<matplotlib.image.AxesImage at 0x11aa31f10>"
      ]
     },
     "execution_count": 52,
     "metadata": {},
     "output_type": "execute_result"
    },
    {
     "data": {
      "image/png": "[encoded data removed]",
      "text/plain": [
       "<matplotlib.figure.Figure at 0x11b092310>"
      ]
     },
     "metadata": {},
     "output_type": "display_data"
    }
   ],
   "source": [
    "mig(data,vel,dt,dx,dy,dz)\n",
    "mpl.imshow(image, aspect=\"auto\", cmap=\"Greys\")"
   ]
  },
  {
   "cell_type": "code",
   "execution_count": 55,
   "metadata": {},
   "outputs": [
    {
     "data": {
      "text/plain": [
       "<matplotlib.image.AxesImage at 0x11b303f50>"
      ]
     },
     "execution_count": 55,
     "metadata": {},
     "output_type": "execute_result"
    },
    {
     "data": {
      "image/png": "[encoded data removed]",
      "text/plain": [
       "<matplotlib.figure.Figure at 0x11b475f50>"
      ]
     },
     "metadata": {},
     "output_type": "display_data"
    }
   ],
   "source": [
    "# generate dipping intermittent model\n",
    "nz=10\n",
    "ny=10\n",
    "\n",
    "slope = 2\n",
    "num=10+1\n",
    "dip = np.zeros((nz*num,ny*num*slope))\n",
    "i = 0\n",
    "while (i<num):\n",
    "    dip[i*nz+nz/2][i*ny*slope+ny/2] = 1\n",
    "    i=i+1\n",
    "    \n",
    "\n",
    "mpl.imshow(dip, aspect=\"auto\", cmap=\"Greys\")"
   ]
  },
  {
   "cell_type": "code",
   "execution_count": 56,
   "metadata": {},
   "outputs": [
    {
     "data": {
      "text/plain": [
       "<matplotlib.image.AxesImage at 0x11ade1e10>"
      ]
     },
     "execution_count": 56,
     "metadata": {},
     "output_type": "execute_result"
    },
    {
     "data": {
      "image/png": "[encoded data removed]",
      "text/plain": [
       "<matplotlib.figure.Figure at 0x1196f7450>"
      ]
     },
     "metadata": {},
     "output_type": "display_data"
    }
   ],
   "source": [
    "mig(dip,vel,dt,dx,dy,dz)\n",
    "mpl.imshow(image, aspect=\"auto\", cmap=\"Greys\")"
   ]
  },
  {
   "cell_type": "code",
   "execution_count": 57,
   "metadata": {},
   "outputs": [
    {
     "data": {
      "text/plain": [
       "<matplotlib.image.AxesImage at 0x119750190>"
      ]
     },
     "execution_count": 57,
     "metadata": {},
     "output_type": "execute_result"
    },
    {
     "data": {
      "image/png": "[encoded data removed]",
      "text/plain": [
       "<matplotlib.figure.Figure at 0x10e3d0b50>"
      ]
     },
     "metadata": {},
     "output_type": "display_data"
    }
   ],
   "source": [
    "mod(dip,vel,dz,dy,dx,dt)\n",
    "mpl.imshow(data, aspect=\"auto\", cmap=\"Greys\")"
   ]
  },
  {
   "cell_type": "code",
   "execution_count": null,
   "metadata": {
    "collapsed": true
   },
   "outputs": [],
   "source": []
  },
  {
   "cell_type": "code",
   "execution_count": null,
   "metadata": {},
   "outputs": [],
   "source": []
  },
  {
   "cell_type": "code",
   "execution_count": null,
   "metadata": {},
   "outputs": [],
   "source": []
  },
  {
   "cell_type": "code",
   "execution_count": null,
   "metadata": {
    "collapsed": true
   },
   "outputs": [],
   "source": []
  }
 ],
 "metadata": {
  "kernelspec": {
   "display_name": "Python 2",
   "language": "python",
   "name": "python2"
  },
  "language_info": {
   "codemirror_mode": {
    "name": "ipython",
    "version": 2
   },
   "file_extension": ".py",
   "mimetype": "text/x-python",
   "name": "python",
   "nbconvert_exporter": "python",
   "pygments_lexer": "ipython2",
   "version": "2.7.13"
  }
 },
 "nbformat": 4,
 "nbformat_minor": 2
}
